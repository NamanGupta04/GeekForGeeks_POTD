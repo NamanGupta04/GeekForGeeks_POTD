{
 "cells": [
  {
   "cell_type": "code",
   "execution_count": 1,
   "id": "10175dfa",
   "metadata": {},
   "outputs": [],
   "source": [
    "class Solution:\n",
    "    def firstElementKTime(self, n, k, arr):\n",
    "        # code here    \n",
    "        count_map = {}\n",
    "        for num in arr:\n",
    "            # Increment the count for the current element.\n",
    "            count_map[num] = count_map.get(num, 0) + 1\n",
    "\n",
    "            # Check if the current count is greater than or equal to k and the element hasn't been found yet.\n",
    "            if count_map[num] >= k:\n",
    "                return num\n",
    "\n",
    "          # No element occurs at least k times.\n",
    "        return -1"
   ]
  },
  {
   "cell_type": "code",
   "execution_count": null,
   "id": "2c5249b5",
   "metadata": {},
   "outputs": [],
   "source": []
  }
 ],
 "metadata": {
  "kernelspec": {
   "display_name": "Python 3 (ipykernel)",
   "language": "python",
   "name": "python3"
  },
  "language_info": {
   "codemirror_mode": {
    "name": "ipython",
    "version": 3
   },
   "file_extension": ".py",
   "mimetype": "text/x-python",
   "name": "python",
   "nbconvert_exporter": "python",
   "pygments_lexer": "ipython3",
   "version": "3.9.13"
  }
 },
 "nbformat": 4,
 "nbformat_minor": 5
}
