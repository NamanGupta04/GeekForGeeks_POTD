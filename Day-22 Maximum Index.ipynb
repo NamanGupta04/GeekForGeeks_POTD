{
 "cells": [
  {
   "cell_type": "code",
   "execution_count": 1,
   "id": "5304c7d6",
   "metadata": {},
   "outputs": [],
   "source": [
    "class Solution:\n",
    "    #Complete this function\n",
    "    # Function to find the maximum index difference.\n",
    "    def maxIndexDiff(self,arr, n): \n",
    "        ##Your code here# Initialize the left and right arrays\n",
    "        left_min = [arr[0]] * n  # Initialize leftMin with size n\n",
    "        right_max = [arr[n - 1]] * n  # Initialize rightMax with size n\n",
    "\n",
    "  # Fill leftMin and rightMax arrays\n",
    "        for i in range(1, n):\n",
    "            left_min[i] = min(left_min[i - 1], arr[i])\n",
    "        for i in range(n - 2, -1, -1):\n",
    "            right_max[i] = max(right_max[i + 1], arr[i])\n",
    "\n",
    "  # Find the maximum difference\n",
    "        i, j, max_diff = 0, 0, -1\n",
    "        while i < n and j < n:\n",
    "            if left_min[i] <= right_max[j]:  # Corrected condition: <= instead of <\n",
    "                max_diff = max(max_diff, j - i)\n",
    "                j += 1  # Move j forward\n",
    "            else:\n",
    "                i += 1  # Move i forward\n",
    "        return max_diff"
   ]
  },
  {
   "cell_type": "code",
   "execution_count": null,
   "id": "a919605a",
   "metadata": {},
   "outputs": [],
   "source": []
  }
 ],
 "metadata": {
  "kernelspec": {
   "display_name": "Python 3 (ipykernel)",
   "language": "python",
   "name": "python3"
  },
  "language_info": {
   "codemirror_mode": {
    "name": "ipython",
    "version": 3
   },
   "file_extension": ".py",
   "mimetype": "text/x-python",
   "name": "python",
   "nbconvert_exporter": "python",
   "pygments_lexer": "ipython3",
   "version": "3.9.13"
  }
 },
 "nbformat": 4,
 "nbformat_minor": 5
}
