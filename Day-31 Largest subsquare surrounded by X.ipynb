{
 "cells": [
  {
   "cell_type": "code",
   "execution_count": 1,
   "id": "d131d276",
   "metadata": {},
   "outputs": [],
   "source": [
    "class Solution:\n",
    "    def largestSubsquare(self, n, a):\n",
    "        #code here\n",
    "        row_by=[[0]*n for _ in range(n)]\n",
    "        col_by=[[0]*n for _ in range(n)]\n",
    "        for i in range(n):\n",
    "            row=0\n",
    "            col=0\n",
    "            for j in range(n):\n",
    "                if a[i][j]==\"X\":\n",
    "                    row+=1\n",
    "                else:\n",
    "                    row=0\n",
    "                row_by[i][j]=row\n",
    "                if a[j][i]==\"X\":\n",
    "                    col+=1\n",
    "                else:\n",
    "                    col=0\n",
    "                col_by[j][i]=col\n",
    "        res=0\n",
    "        for i in range(n):\n",
    "            for j in range(n):\n",
    "                side=min(row_by[i][j],col_by[i][j])\n",
    "                while side>res:\n",
    "                    if row_by[i-side+1][j]>=side and col_by[i][j-side+1]>=side:\n",
    "                        res=side\n",
    "                    else:\n",
    "                        side-=1\n",
    "        return res\n"
   ]
  },
  {
   "cell_type": "code",
   "execution_count": null,
   "id": "93e120f6",
   "metadata": {},
   "outputs": [],
   "source": []
  }
 ],
 "metadata": {
  "kernelspec": {
   "display_name": "Python 3 (ipykernel)",
   "language": "python",
   "name": "python3"
  },
  "language_info": {
   "codemirror_mode": {
    "name": "ipython",
    "version": 3
   },
   "file_extension": ".py",
   "mimetype": "text/x-python",
   "name": "python",
   "nbconvert_exporter": "python",
   "pygments_lexer": "ipython3",
   "version": "3.9.13"
  }
 },
 "nbformat": 4,
 "nbformat_minor": 5
}
