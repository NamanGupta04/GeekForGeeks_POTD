{
 "cells": [
  {
   "cell_type": "code",
   "execution_count": 1,
   "id": "f9943815",
   "metadata": {},
   "outputs": [],
   "source": [
    "class Solution:\n",
    "    def countPairs(self, mat1, mat2, n, x):\n",
    "        # code here\n",
    "        s=set()\n",
    "        for i in range(n):\n",
    "            for j in range(n):\n",
    "                s.add(mat2[i][j])\n",
    "        c=0\n",
    "        for i in range(n):\n",
    "            for j in range(n):\n",
    "                if x-mat1[i][j] in s:\n",
    "                    c+=1\n",
    "        return c"
   ]
  },
  {
   "cell_type": "code",
   "execution_count": null,
   "id": "8521ca04",
   "metadata": {},
   "outputs": [],
   "source": []
  }
 ],
 "metadata": {
  "kernelspec": {
   "display_name": "Python 3 (ipykernel)",
   "language": "python",
   "name": "python3"
  },
  "language_info": {
   "codemirror_mode": {
    "name": "ipython",
    "version": 3
   },
   "file_extension": ".py",
   "mimetype": "text/x-python",
   "name": "python",
   "nbconvert_exporter": "python",
   "pygments_lexer": "ipython3",
   "version": "3.9.13"
  }
 },
 "nbformat": 4,
 "nbformat_minor": 5
}
