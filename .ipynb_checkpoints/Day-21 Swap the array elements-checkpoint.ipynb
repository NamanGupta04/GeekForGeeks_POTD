{
 "cells": [
  {
   "cell_type": "code",
   "execution_count": 2,
   "id": "c5255dfa",
   "metadata": {},
   "outputs": [],
   "source": [
    "class Solution:\n",
    "    def swapElements(self, arr, n):\n",
    "        #Code here\n",
    "        for i in range(n - 2):\n",
    "            # Swap elements at indices i and i+2 using direct assignment\n",
    "            arr[i], arr[i + 2] = arr[i + 2], arr[i]\n",
    "\n",
    "        return arr"
   ]
  },
  {
   "cell_type": "code",
   "execution_count": null,
   "id": "ec9dd9d1",
   "metadata": {},
   "outputs": [],
   "source": []
  }
 ],
 "metadata": {
  "kernelspec": {
   "display_name": "Python 3 (ipykernel)",
   "language": "python",
   "name": "python3"
  },
  "language_info": {
   "codemirror_mode": {
    "name": "ipython",
    "version": 3
   },
   "file_extension": ".py",
   "mimetype": "text/x-python",
   "name": "python",
   "nbconvert_exporter": "python",
   "pygments_lexer": "ipython3",
   "version": "3.9.13"
  }
 },
 "nbformat": 4,
 "nbformat_minor": 5
}
