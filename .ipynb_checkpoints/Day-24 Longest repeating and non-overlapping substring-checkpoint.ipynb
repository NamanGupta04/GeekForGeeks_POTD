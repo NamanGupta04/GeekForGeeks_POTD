{
 "cells": [
  {
   "cell_type": "code",
   "execution_count": 1,
   "id": "f84252da",
   "metadata": {},
   "outputs": [],
   "source": [
    "class Solution:\n",
    "    def longestSubstring(self, s, n):\n",
    "        res,maxi = \"\",-1\n",
    "        d = {}\n",
    "        for i in range(n):\n",
    "            x = \"\"\n",
    "            for j in range(i,n):\n",
    "                x += s[j]\n",
    "                if x in s[j+1:]:\n",
    "                    if maxi<len(x):\n",
    "                        maxi = len(x)\n",
    "                        res = x\n",
    "                else:\n",
    "                    break\n",
    "        return res if res !=\"\" else \"-1\"\n"
   ]
  },
  {
   "cell_type": "code",
   "execution_count": null,
   "id": "8f9c76bf",
   "metadata": {},
   "outputs": [],
   "source": []
  }
 ],
 "metadata": {
  "kernelspec": {
   "display_name": "Python 3 (ipykernel)",
   "language": "python",
   "name": "python3"
  },
  "language_info": {
   "codemirror_mode": {
    "name": "ipython",
    "version": 3
   },
   "file_extension": ".py",
   "mimetype": "text/x-python",
   "name": "python",
   "nbconvert_exporter": "python",
   "pygments_lexer": "ipython3",
   "version": "3.9.13"
  }
 },
 "nbformat": 4,
 "nbformat_minor": 5
}
