{
 "cells": [
  {
   "cell_type": "code",
   "execution_count": 1,
   "id": "6171e3d5",
   "metadata": {},
   "outputs": [],
   "source": [
    "class Solution:\n",
    "    def nthCharacter(self, s, r, n):\n",
    "        # code here\n",
    "        t = \"\"\n",
    "        for _ in range(r):\n",
    "            for i in range(len(s)):\n",
    "                if s[i] == \"1\":\n",
    "                    t += \"10\"\n",
    "                else:\n",
    "                    t += \"01\"\n",
    "                if i > n:\n",
    "                    break\n",
    "            s = t[:]\n",
    "            t = \"\"\n",
    "        return s[n]\n"
   ]
  },
  {
   "cell_type": "code",
   "execution_count": null,
   "id": "62d60a8a",
   "metadata": {},
   "outputs": [],
   "source": []
  }
 ],
 "metadata": {
  "kernelspec": {
   "display_name": "Python 3 (ipykernel)",
   "language": "python",
   "name": "python3"
  },
  "language_info": {
   "codemirror_mode": {
    "name": "ipython",
    "version": 3
   },
   "file_extension": ".py",
   "mimetype": "text/x-python",
   "name": "python",
   "nbconvert_exporter": "python",
   "pygments_lexer": "ipython3",
   "version": "3.9.13"
  }
 },
 "nbformat": 4,
 "nbformat_minor": 5
}
