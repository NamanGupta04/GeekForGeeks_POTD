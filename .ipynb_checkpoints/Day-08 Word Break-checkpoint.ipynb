{
 "cells": [
  {
   "cell_type": "code",
   "execution_count": 1,
   "id": "593fe1cf",
   "metadata": {},
   "outputs": [],
   "source": [
    "class Solution:\n",
    "    def wordBreak(self, n, s, dictionary):\n",
    "        # Complete this function\n",
    "        dic = {}\n",
    "        for i in  dictionary:\n",
    "    \n",
    "            # check if the word exists in the input s\n",
    "            if i in s:\n",
    "                if i[0] in dic:\n",
    "                    dic[i[0]].append(i)\n",
    "                else:\n",
    "                    dic[i[0]]=[i]\n",
    "        \n",
    "        # define a recursive function to solve the word break problem\n",
    "        def solve(st, k,  dp):\n",
    "    \n",
    "            # base case: if the entire string is broken\n",
    "            if len(st)==k:\n",
    "                return True\n",
    "            \n",
    "            elif  dp[k]!=None:\n",
    "                return  dp[k]\n",
    "            \n",
    "\n",
    "            elif st[k] in dic:\n",
    "                for i in dic[st[k]]:\n",
    "    \n",
    "                    # check if the length of the word is smaller or equal \n",
    "                    if len(i)<=len(st[k:]):\n",
    "    \n",
    "                        # check if the word matches the current substring\n",
    "                        if st[k:k+len(i)]==i:    \n",
    "                            k+=len(i)\n",
    "                            rt = solve(st,k, dp)\n",
    "    \n",
    "                            if rt:\n",
    "                                dp[k]=True\n",
    "                                return True\n",
    "                            else:\n",
    "\n",
    "                                k=k-len(i)\n",
    "                dp[k]=False\n",
    "                return False     \n",
    "            else:\n",
    "                dp[k]=False\n",
    "                return False\n",
    "    \n",
    "        # initialize a list to store the results of the solve function \n",
    "        dp=[None]*(len(s)+1)\n",
    "        k = 0   \n",
    "        res = solve(s, k,  dp)\n",
    "    \n",
    "        # return the final result\n",
    "        return res"
   ]
  },
  {
   "cell_type": "code",
   "execution_count": null,
   "id": "4ba9dab2",
   "metadata": {},
   "outputs": [],
   "source": []
  }
 ],
 "metadata": {
  "kernelspec": {
   "display_name": "Python 3 (ipykernel)",
   "language": "python",
   "name": "python3"
  },
  "language_info": {
   "codemirror_mode": {
    "name": "ipython",
    "version": 3
   },
   "file_extension": ".py",
   "mimetype": "text/x-python",
   "name": "python",
   "nbconvert_exporter": "python",
   "pygments_lexer": "ipython3",
   "version": "3.9.13"
  }
 },
 "nbformat": 4,
 "nbformat_minor": 5
}
