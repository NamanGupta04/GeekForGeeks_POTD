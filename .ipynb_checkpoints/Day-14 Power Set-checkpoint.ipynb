{
 "cells": [
  {
   "cell_type": "code",
   "execution_count": 3,
   "id": "1023d498",
   "metadata": {},
   "outputs": [],
   "source": [
    "class Solution:\n",
    "    def AllPossibleStrings(self, s):\n",
    "        # Code here\n",
    "        def generate_subsequences(s, current, index, result):\n",
    "            n = len(s)\n",
    "            # Add the current subsequence to the result\n",
    "            if current:\n",
    "                result.append(current)\n",
    "        \n",
    "            # Generate subsequences by considering and not considering the current character\n",
    "            for i in range(index, n):\n",
    "                generate_subsequences(s, current + s[i], i + 1, result)\n",
    "    \n",
    "        # Initialize an empty list to store the result\n",
    "        result = []\n",
    "        # Call the helper function to generate subsequences\n",
    "        generate_subsequences(s, \"\", 0, result)\n",
    "        # Sort the result lexicographically\n",
    "        result.sort()\n",
    "    \n",
    "        return result"
   ]
  },
  {
   "cell_type": "code",
   "execution_count": null,
   "id": "1e36456a",
   "metadata": {},
   "outputs": [],
   "source": []
  }
 ],
 "metadata": {
  "kernelspec": {
   "display_name": "Python 3 (ipykernel)",
   "language": "python",
   "name": "python3"
  },
  "language_info": {
   "codemirror_mode": {
    "name": "ipython",
    "version": 3
   },
   "file_extension": ".py",
   "mimetype": "text/x-python",
   "name": "python",
   "nbconvert_exporter": "python",
   "pygments_lexer": "ipython3",
   "version": "3.9.13"
  }
 },
 "nbformat": 4,
 "nbformat_minor": 5
}
