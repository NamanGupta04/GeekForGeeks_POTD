{
 "cells": [
  {
   "cell_type": "code",
   "execution_count": 1,
   "id": "ac5dc6fc",
   "metadata": {},
   "outputs": [],
   "source": [
    "class Solution:\n",
    "    def count(self, n: int) -> int:\n",
    "        #your code here\n",
    "        dp = [0] * (n + 1)\n",
    "        \n",
    "        # There is one way to reach score 0 (no moves)\n",
    "        dp[0] = 1\n",
    "        \n",
    "        # Iterate through all possible moves (3, 5, 10)\n",
    "        for move in [3, 5, 10]:\n",
    "            for score in range(move, n + 1):\n",
    "                # Update the table by adding the number of ways to reach the current score\n",
    "                dp[score] += dp[score - move]\n",
    "        \n",
    "        # The result is stored in the last element of the table\n",
    "        return dp[n]"
   ]
  },
  {
   "cell_type": "code",
   "execution_count": null,
   "id": "ef34505f",
   "metadata": {},
   "outputs": [],
   "source": []
  }
 ],
 "metadata": {
  "kernelspec": {
   "display_name": "Python 3 (ipykernel)",
   "language": "python",
   "name": "python3"
  },
  "language_info": {
   "codemirror_mode": {
    "name": "ipython",
    "version": 3
   },
   "file_extension": ".py",
   "mimetype": "text/x-python",
   "name": "python",
   "nbconvert_exporter": "python",
   "pygments_lexer": "ipython3",
   "version": "3.9.13"
  }
 },
 "nbformat": 4,
 "nbformat_minor": 5
}
