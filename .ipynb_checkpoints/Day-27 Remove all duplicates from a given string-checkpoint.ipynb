{
 "cells": [
  {
   "cell_type": "code",
   "execution_count": 1,
   "id": "5146ab1d",
   "metadata": {},
   "outputs": [],
   "source": [
    "class Solution:\n",
    "    def removeDuplicates(self,str):\n",
    "        # code here\n",
    "        seen_chars = set()\n",
    "        result_str = \"\"\n",
    "\n",
    "        for char in str:\n",
    "            if char not in seen_chars:\n",
    "                seen_chars.add(char)\n",
    "                result_str += char\n",
    "\n",
    "        return result_str"
   ]
  },
  {
   "cell_type": "code",
   "execution_count": null,
   "id": "a055a53a",
   "metadata": {},
   "outputs": [],
   "source": []
  }
 ],
 "metadata": {
  "kernelspec": {
   "display_name": "Python 3 (ipykernel)",
   "language": "python",
   "name": "python3"
  },
  "language_info": {
   "codemirror_mode": {
    "name": "ipython",
    "version": 3
   },
   "file_extension": ".py",
   "mimetype": "text/x-python",
   "name": "python",
   "nbconvert_exporter": "python",
   "pygments_lexer": "ipython3",
   "version": "3.9.13"
  }
 },
 "nbformat": 4,
 "nbformat_minor": 5
}
