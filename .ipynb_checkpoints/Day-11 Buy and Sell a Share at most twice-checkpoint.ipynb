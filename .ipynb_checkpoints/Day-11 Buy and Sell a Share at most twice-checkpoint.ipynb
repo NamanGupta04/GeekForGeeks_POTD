{
 "cells": [
  {
   "cell_type": "code",
   "execution_count": 2,
   "id": "f3d2521a",
   "metadata": {},
   "outputs": [],
   "source": [
    "class Solution:\n",
    "    def maxProfit(self, n : int, price : List[int]) -> int:\n",
    "        # code here\n",
    "        buy1 = buy2 = float('-inf')\n",
    "        sell1 = sell2 = 0\n",
    "\n",
    "        for p in price:\n",
    "            buy1 = max(buy1, -p)\n",
    "            sell1 = max(sell1, p + buy1)\n",
    "            buy2 = max(buy2, sell1 - p)\n",
    "            sell2 = max(sell2, p + buy2)\n",
    "\n",
    "        return sell2"
   ]
  },
  {
   "cell_type": "code",
   "execution_count": null,
   "id": "b52e372e",
   "metadata": {},
   "outputs": [],
   "source": []
  }
 ],
 "metadata": {
  "kernelspec": {
   "display_name": "Python 3 (ipykernel)",
   "language": "python",
   "name": "python3"
  },
  "language_info": {
   "codemirror_mode": {
    "name": "ipython",
    "version": 3
   },
   "file_extension": ".py",
   "mimetype": "text/x-python",
   "name": "python",
   "nbconvert_exporter": "python",
   "pygments_lexer": "ipython3",
   "version": "3.9.13"
  }
 },
 "nbformat": 4,
 "nbformat_minor": 5
}
