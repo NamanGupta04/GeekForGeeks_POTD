{
 "cells": [
  {
   "cell_type": "code",
   "execution_count": 1,
   "id": "aec3aaf5",
   "metadata": {},
   "outputs": [],
   "source": [
    "class Solution:\n",
    "    def sumOfLeafNodes(self, root):\n",
    "        #Your code here\n",
    "        if root is None:\n",
    "            return 0\n",
    "        elif root.left is None and root.right is None:  # Leaf node\n",
    "            return root.data\n",
    "        else:\n",
    "            return self.sumOfLeafNodes(root.left) + self.sumOfLeafNodes(root.right)"
   ]
  },
  {
   "cell_type": "code",
   "execution_count": null,
   "id": "aa97831b",
   "metadata": {},
   "outputs": [],
   "source": []
  }
 ],
 "metadata": {
  "kernelspec": {
   "display_name": "Python 3 (ipykernel)",
   "language": "python",
   "name": "python3"
  },
  "language_info": {
   "codemirror_mode": {
    "name": "ipython",
    "version": 3
   },
   "file_extension": ".py",
   "mimetype": "text/x-python",
   "name": "python",
   "nbconvert_exporter": "python",
   "pygments_lexer": "ipython3",
   "version": "3.9.13"
  }
 },
 "nbformat": 4,
 "nbformat_minor": 5
}
