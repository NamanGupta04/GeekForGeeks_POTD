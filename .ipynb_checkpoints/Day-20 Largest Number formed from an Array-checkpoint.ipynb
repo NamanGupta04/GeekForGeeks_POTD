{
 "cells": [
  {
   "cell_type": "code",
   "execution_count": null,
   "id": "5b059fdf",
   "metadata": {},
   "outputs": [],
   "source": [
    "from functools import cmp_to_key\n",
    "class Solution:\n",
    "\n",
    "\tdef printLargest(self, n, arr):\n",
    "\t    # code here\n",
    "\t    def compare(a, b):\n",
    "            ab = a + b\n",
    "            ba = b + a\n",
    "            return -1 if ab > ba else (1 if ab < ba else 0)\n",
    "\n",
    "        # Sort the array using the custom comparison function\n",
    "        arr.sort(key=cmp_to_key(compare))\n",
    "\n",
    "        # Handle leading zeros\n",
    "        for num in arr:\n",
    "            if num != \"0\":\n",
    "                break\n",
    "        else:\n",
    "            return \"0\"\n",
    "\n",
    "        # Concatenate the sorted array to form the largest number\n",
    "        return \"\".join(arr)\n"
   ]
  }
 ],
 "metadata": {
  "kernelspec": {
   "display_name": "Python 3 (ipykernel)",
   "language": "python",
   "name": "python3"
  },
  "language_info": {
   "codemirror_mode": {
    "name": "ipython",
    "version": 3
   },
   "file_extension": ".py",
   "mimetype": "text/x-python",
   "name": "python",
   "nbconvert_exporter": "python",
   "pygments_lexer": "ipython3",
   "version": "3.9.13"
  }
 },
 "nbformat": 4,
 "nbformat_minor": 5
}
