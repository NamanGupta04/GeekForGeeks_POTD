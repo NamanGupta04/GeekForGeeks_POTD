{
 "cells": [
  {
   "cell_type": "code",
   "execution_count": 1,
   "id": "da5b78a7",
   "metadata": {},
   "outputs": [],
   "source": [
    "\n",
    "class Node:\n",
    "    def __init__(self,data):\n",
    "        self.data=data\n",
    "        self.next=None\n",
    "\n",
    "\n",
    "class Solution:\n",
    "    def merge(self, left, right):\n",
    "        dummy = Node(0)\n",
    "        current = dummy\n",
    "        while left and right:\n",
    "            if left.data < right.data:\n",
    "                current.next = left\n",
    "                left = left.next\n",
    "            else:\n",
    "                current.next = right\n",
    "                right = right.next\n",
    "            current = current.next\n",
    "        if left:\n",
    "            current.next = left\n",
    "        if right:\n",
    "            current.next = right\n",
    "        return dummy.next\n",
    "    \n",
    "    def merge_sort(self, head):\n",
    "        if not head or not head.next:\n",
    "            return head\n",
    "        \n",
    "        # Find the middle of the list\n",
    "        slow = head\n",
    "        fast = head.next\n",
    "        while fast and fast.next:\n",
    "            slow = slow.next\n",
    "            fast = fast.next.next\n",
    "        \n",
    "        # Split the list into two halves\n",
    "        mid = slow.next\n",
    "        slow.next = None\n",
    "        \n",
    "        # Recursively sort each half\n",
    "        left = self.merge_sort(head)\n",
    "        right = self.merge_sort(mid)\n",
    "        \n",
    "        # Merge the sorted halves\n",
    "        return self.merge(left, right)\n",
    "    \n",
    "    def sort(self, head):\n",
    "        return self.merge_sort(head)"
   ]
  },
  {
   "cell_type": "code",
   "execution_count": null,
   "id": "c0de4c00",
   "metadata": {},
   "outputs": [],
   "source": []
  }
 ],
 "metadata": {
  "kernelspec": {
   "display_name": "Python 3 (ipykernel)",
   "language": "python",
   "name": "python3"
  },
  "language_info": {
   "codemirror_mode": {
    "name": "ipython",
    "version": 3
   },
   "file_extension": ".py",
   "mimetype": "text/x-python",
   "name": "python",
   "nbconvert_exporter": "python",
   "pygments_lexer": "ipython3",
   "version": "3.9.13"
  }
 },
 "nbformat": 4,
 "nbformat_minor": 5
}
