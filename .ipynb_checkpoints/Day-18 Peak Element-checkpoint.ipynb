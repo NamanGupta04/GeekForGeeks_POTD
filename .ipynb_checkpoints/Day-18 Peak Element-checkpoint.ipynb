{
 "cells": [
  {
   "cell_type": "code",
   "execution_count": 1,
   "id": "065a1180",
   "metadata": {},
   "outputs": [],
   "source": [
    "class Solution:   \n",
    "    def peakElement(self,arr, n):\n",
    "        # Code here\n",
    "        left, right = 0, n - 1\n",
    "    \n",
    "        while left < right:\n",
    "            mid = (left + right) // 2\n",
    "        \n",
    "            if arr[mid] > arr[mid + 1]:\n",
    "                # If mid element is greater than its right neighbor, peak must be on the left side\n",
    "                right = mid\n",
    "            else:\n",
    "                # If mid element is not greater than its right neighbor, peak must be on the right side\n",
    "                left = mid + 1\n",
    "    \n",
    "        return left"
   ]
  },
  {
   "cell_type": "code",
   "execution_count": null,
   "id": "9301bcd0",
   "metadata": {},
   "outputs": [],
   "source": []
  }
 ],
 "metadata": {
  "kernelspec": {
   "display_name": "Python 3 (ipykernel)",
   "language": "python",
   "name": "python3"
  },
  "language_info": {
   "codemirror_mode": {
    "name": "ipython",
    "version": 3
   },
   "file_extension": ".py",
   "mimetype": "text/x-python",
   "name": "python",
   "nbconvert_exporter": "python",
   "pygments_lexer": "ipython3",
   "version": "3.9.13"
  }
 },
 "nbformat": 4,
 "nbformat_minor": 5
}
