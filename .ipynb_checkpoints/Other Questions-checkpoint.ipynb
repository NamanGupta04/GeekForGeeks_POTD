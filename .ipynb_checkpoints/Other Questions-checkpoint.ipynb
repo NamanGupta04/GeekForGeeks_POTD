{
 "cells": [
  {
   "cell_type": "markdown",
   "id": "869f72d7",
   "metadata": {},
   "source": [
    "## Your Task:\n",
    "You do not have to take any input or print anything. You need to complete the function checkPangram() that takes a string as a parameter and returns true if the string is a Panagram, or else it returns false."
   ]
  },
  {
   "cell_type": "code",
   "execution_count": 4,
   "id": "8480cb9a",
   "metadata": {},
   "outputs": [],
   "source": [
    "def checkPangram(s):\n",
    "    #code here\n",
    "    letters_set = set()\n",
    "\n",
    "    for char in s:\n",
    "        if char.isalpha():\n",
    "            letters_set.add(char.lower())\n",
    "\n",
    "    return len(letters_set) == 26"
   ]
  },
  {
   "cell_type": "code",
   "execution_count": null,
   "id": "4b359832",
   "metadata": {},
   "outputs": [],
   "source": []
  }
 ],
 "metadata": {
  "kernelspec": {
   "display_name": "Python 3 (ipykernel)",
   "language": "python",
   "name": "python3"
  },
  "language_info": {
   "codemirror_mode": {
    "name": "ipython",
    "version": 3
   },
   "file_extension": ".py",
   "mimetype": "text/x-python",
   "name": "python",
   "nbconvert_exporter": "python",
   "pygments_lexer": "ipython3",
   "version": "3.9.13"
  }
 },
 "nbformat": 4,
 "nbformat_minor": 5
}
