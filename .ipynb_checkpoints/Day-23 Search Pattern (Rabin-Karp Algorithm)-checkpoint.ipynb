{
 "cells": [
  {
   "cell_type": "code",
   "execution_count": 1,
   "id": "cb2f5857",
   "metadata": {},
   "outputs": [],
   "source": [
    "class Solution:\n",
    "    def search(self, pattern, text):\n",
    "        # code here\n",
    "        result = []\n",
    "        text_len = len(text)\n",
    "        pattern_len = len(pattern)\n",
    "        prime = 101  # A prime number for hashing (can be any prime number)\n",
    "\n",
    "        def calculate_hash(s, length):\n",
    "            hash_value = 0\n",
    "            for i in range(length):\n",
    "                hash_value = (hash_value * 256 + ord(s[i])) % prime\n",
    "            return hash_value\n",
    "\n",
    "        pattern_hash = calculate_hash(pattern, pattern_len)\n",
    "        text_hash = calculate_hash(text, pattern_len)\n",
    "        hash_multiplier = pow(256, pattern_len - 1, prime)\n",
    "\n",
    "        for i in range(text_len - pattern_len + 1):\n",
    "            if text_hash == pattern_hash and text[i:i + pattern_len] == pattern:\n",
    "                result.append(i + 1)\n",
    "\n",
    "            if i < text_len - pattern_len:\n",
    "                # Update the hash using rolling hash technique\n",
    "                text_hash = (256 * (text_hash - ord(text[i]) * hash_multiplier) + ord(text[i + pattern_len])) % prime\n",
    "\n",
    "        return result"
   ]
  },
  {
   "cell_type": "code",
   "execution_count": null,
   "id": "aa0716cf",
   "metadata": {},
   "outputs": [],
   "source": []
  }
 ],
 "metadata": {
  "kernelspec": {
   "display_name": "Python 3 (ipykernel)",
   "language": "python",
   "name": "python3"
  },
  "language_info": {
   "codemirror_mode": {
    "name": "ipython",
    "version": 3
   },
   "file_extension": ".py",
   "mimetype": "text/x-python",
   "name": "python",
   "nbconvert_exporter": "python",
   "pygments_lexer": "ipython3",
   "version": "3.9.13"
  }
 },
 "nbformat": 4,
 "nbformat_minor": 5
}
