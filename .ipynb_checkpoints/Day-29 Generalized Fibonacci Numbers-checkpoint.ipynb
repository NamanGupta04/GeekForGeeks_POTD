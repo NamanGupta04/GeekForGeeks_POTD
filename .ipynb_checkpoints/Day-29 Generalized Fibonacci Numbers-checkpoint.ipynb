{
 "cells": [
  {
   "cell_type": "code",
   "execution_count": 1,
   "id": "fdb0e843",
   "metadata": {},
   "outputs": [],
   "source": [
    "import numpy as np\n",
    "class Solution:\n",
    "    def genFibNum(self, a, b, c, n, m):\n",
    "        # code here \n",
    "        if n <= 2:\n",
    "            return 1\n",
    "        res = np.array([\n",
    "            [1, 0, 0],\n",
    "            [0, 1, 0],\n",
    "            [0, 0, 1]\n",
    "        ])\n",
    "        gen_fib_matrix = np.array([\n",
    "            [a, b, c],\n",
    "            [1, 0, 0],\n",
    "            [0, 0, 1]\n",
    "        ])\n",
    "        n -= 2\n",
    "        while n:\n",
    "            if n & 1:\n",
    "                res = np.matmul(res, gen_fib_matrix) % m\n",
    "            gen_fib_matrix = np.matmul(gen_fib_matrix, gen_fib_matrix) % m\n",
    "            n >>= 1\n",
    "        return sum(res[0]) % m"
   ]
  },
  {
   "cell_type": "code",
   "execution_count": null,
   "id": "3e0c466c",
   "metadata": {},
   "outputs": [],
   "source": []
  }
 ],
 "metadata": {
  "kernelspec": {
   "display_name": "Python 3 (ipykernel)",
   "language": "python",
   "name": "python3"
  },
  "language_info": {
   "codemirror_mode": {
    "name": "ipython",
    "version": 3
   },
   "file_extension": ".py",
   "mimetype": "text/x-python",
   "name": "python",
   "nbconvert_exporter": "python",
   "pygments_lexer": "ipython3",
   "version": "3.9.13"
  }
 },
 "nbformat": 4,
 "nbformat_minor": 5
}
