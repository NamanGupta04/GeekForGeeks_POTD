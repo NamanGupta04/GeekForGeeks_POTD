{
 "cells": [
  {
   "cell_type": "code",
   "execution_count": 2,
   "id": "622b7133",
   "metadata": {},
   "outputs": [],
   "source": [
    "def isMaxHeap(self,arr,n):\n",
    "        # Your code goes here\n",
    "        # Start from the parent of the last node and move up to the root\n",
    "        for i in range((n // 2) - 1, -1, -1):\n",
    "            # If the current node is smaller than its left child or right child (if exists)\n",
    "            if arr[i] < arr[2*i + 1] or (2*i + 2 < n and arr[i] < arr[2*i + 2]):\n",
    "                return False\n",
    "        return True"
   ]
  },
  {
   "cell_type": "code",
   "execution_count": null,
   "id": "11829954",
   "metadata": {},
   "outputs": [],
   "source": []
  }
 ],
 "metadata": {
  "kernelspec": {
   "display_name": "Python 3 (ipykernel)",
   "language": "python",
   "name": "python3"
  },
  "language_info": {
   "codemirror_mode": {
    "name": "ipython",
    "version": 3
   },
   "file_extension": ".py",
   "mimetype": "text/x-python",
   "name": "python",
   "nbconvert_exporter": "python",
   "pygments_lexer": "ipython3",
   "version": "3.9.13"
  }
 },
 "nbformat": 4,
 "nbformat_minor": 5
}
