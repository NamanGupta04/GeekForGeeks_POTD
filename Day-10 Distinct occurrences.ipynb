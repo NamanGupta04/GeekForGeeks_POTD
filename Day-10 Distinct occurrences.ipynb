{
 "cells": [
  {
   "cell_type": "code",
   "execution_count": null,
   "id": "e87aa981",
   "metadata": {},
   "outputs": [],
   "source": [
    "class Solution:\n",
    "    def sequenceCount(self,s, t):\n",
    "        MOD = 10**9 + 7\n",
    "        n, m = len(s), len(t)\n",
    "\n",
    "    # Initialize a 1D DP array to store counts\n",
    "        dp = [0] * (m + 1)\n",
    "\n",
    "    # Base case: an empty string is a subsequence of any string\n",
    "        dp[0] = 1\n",
    "\n",
    "    # Fill the DP array\n",
    "        for i in range(1, n + 1):\n",
    "            for j in range(m, 0, -1):\n",
    "            # If the characters match, we can either include or exclude the character in s\n",
    "                if s[i - 1] == t[j - 1]:\n",
    "                    dp[j] = (dp[j] + dp[j - 1]) % MOD\n",
    "\n",
    "    # The final answer is stored in the last cell of the DP array\n",
    "        return dp[m]"
   ]
  }
 ],
 "metadata": {
  "kernelspec": {
   "display_name": "Python 3 (ipykernel)",
   "language": "python",
   "name": "python3"
  },
  "language_info": {
   "codemirror_mode": {
    "name": "ipython",
    "version": 3
   },
   "file_extension": ".py",
   "mimetype": "text/x-python",
   "name": "python",
   "nbconvert_exporter": "python",
   "pygments_lexer": "ipython3",
   "version": "3.9.13"
  }
 },
 "nbformat": 4,
 "nbformat_minor": 5
}
