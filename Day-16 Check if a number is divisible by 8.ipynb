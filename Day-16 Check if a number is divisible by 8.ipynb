{
 "cells": [
  {
   "cell_type": "code",
   "execution_count": 1,
   "id": "67e1750a",
   "metadata": {},
   "outputs": [],
   "source": [
    "class Solution:\n",
    "    def DivisibleByEight(self,s):\n",
    "        #code here\n",
    "        if len(s) < 3:\n",
    "            s = s.zfill(3)\n",
    "\n",
    "        # Take the last three digits of the string\n",
    "        last_three_digits = int(s[-3:])\n",
    "\n",
    "        # Check if the last three digits are divisible by 8\n",
    "        if last_three_digits % 8 == 0:\n",
    "            return 1\n",
    "        else:\n",
    "            return -1"
   ]
  },
  {
   "cell_type": "code",
   "execution_count": null,
   "id": "674aa8f2",
   "metadata": {},
   "outputs": [],
   "source": []
  }
 ],
 "metadata": {
  "kernelspec": {
   "display_name": "Python 3 (ipykernel)",
   "language": "python",
   "name": "python3"
  },
  "language_info": {
   "codemirror_mode": {
    "name": "ipython",
    "version": 3
   },
   "file_extension": ".py",
   "mimetype": "text/x-python",
   "name": "python",
   "nbconvert_exporter": "python",
   "pygments_lexer": "ipython3",
   "version": "3.9.13"
  }
 },
 "nbformat": 4,
 "nbformat_minor": 5
}
