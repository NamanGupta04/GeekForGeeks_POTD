{
 "cells": [
  {
   "cell_type": "code",
   "execution_count": 1,
   "id": "cf5422f3",
   "metadata": {},
   "outputs": [],
   "source": [
    "class Solution:\n",
    "    def sameFreq(self, s):\n",
    "        arr = [0]*26\n",
    "        maxc = (0, 0)\n",
    "        for e in s:\n",
    "            i = ord(e)-ord('a')\n",
    "            arr[i] += 1\n",
    "            if arr[i] > maxc[1]:\n",
    "                maxc = (i, arr[i])\n",
    "\n",
    "        if len(set(e for e in arr if e != 0)) == 1:\n",
    "            return 1\n",
    "        arr[maxc[0]] -= 1\n",
    "        if len(set(e for e in arr if e != 0)) == 1:\n",
    "            return 1\n",
    "        return 0"
   ]
  },
  {
   "cell_type": "code",
   "execution_count": null,
   "id": "0a8ff162",
   "metadata": {},
   "outputs": [],
   "source": []
  }
 ],
 "metadata": {
  "kernelspec": {
   "display_name": "Python 3 (ipykernel)",
   "language": "python",
   "name": "python3"
  },
  "language_info": {
   "codemirror_mode": {
    "name": "ipython",
    "version": 3
   },
   "file_extension": ".py",
   "mimetype": "text/x-python",
   "name": "python",
   "nbconvert_exporter": "python",
   "pygments_lexer": "ipython3",
   "version": "3.9.13"
  }
 },
 "nbformat": 4,
 "nbformat_minor": 5
}
