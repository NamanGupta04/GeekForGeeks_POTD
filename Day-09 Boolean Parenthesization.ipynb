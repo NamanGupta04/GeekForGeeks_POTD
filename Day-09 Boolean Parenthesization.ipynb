{
 "cells": [
  {
   "cell_type": "code",
   "execution_count": 1,
   "id": "fd956e27",
   "metadata": {},
   "outputs": [],
   "source": [
    "from functools import lru_cache\n",
    "class Solution:\n",
    "    def countWays(self, n, s):\n",
    "        # code here\n",
    "        mod = 1003\n",
    "        exp = s\n",
    "        @lru_cache(maxsize=None)\n",
    "        def recur(requirement, l, r):\n",
    "            if abs(l-r) == 1:\n",
    "                if exp[l] == requirement:\n",
    "                    return 1\n",
    "                else:\n",
    "                    return 0\n",
    "                \n",
    "            res = 0\n",
    "            for i in range(l, r):\n",
    "                if not exp[i].isalpha():\n",
    "                    lt = recur('T', l, i)\n",
    "                    lf = recur('F', l, i)\n",
    "                    rt = recur('T', i+1, r)\n",
    "                    rf = recur('F', i+1, r)\n",
    "                    if exp[i] == '&':\n",
    "                        if requirement == 'T':\n",
    "                            res += lt * rt\n",
    "                        else:\n",
    "                            res += (lf * rf) + (lf * rt) + (lt * rf)\n",
    "                    elif exp[i] == '|':\n",
    "                        if requirement == 'T':\n",
    "                            res += (lt * rt) + (lf * rt) + (lt * rf)\n",
    "                        else:\n",
    "                            res += lf * rf\n",
    "                    elif exp[i] == '^':\n",
    "                        if requirement == 'T':\n",
    "                            res += (lf * rt) + (lt * rf)\n",
    "                        else:\n",
    "                            res += (lf * rf) + (lt * rt)\n",
    "            \n",
    "            return res % mod\n",
    "        \n",
    "        return recur('T', 0, n) % mod"
   ]
  },
  {
   "cell_type": "code",
   "execution_count": null,
   "id": "53e43f16",
   "metadata": {},
   "outputs": [],
   "source": []
  }
 ],
 "metadata": {
  "kernelspec": {
   "display_name": "Python 3 (ipykernel)",
   "language": "python",
   "name": "python3"
  },
  "language_info": {
   "codemirror_mode": {
    "name": "ipython",
    "version": 3
   },
   "file_extension": ".py",
   "mimetype": "text/x-python",
   "name": "python",
   "nbconvert_exporter": "python",
   "pygments_lexer": "ipython3",
   "version": "3.9.13"
  }
 },
 "nbformat": 4,
 "nbformat_minor": 5
}
