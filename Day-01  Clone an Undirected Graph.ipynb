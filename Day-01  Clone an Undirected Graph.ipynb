{
 "cells": [
  {
   "cell_type": "code",
   "execution_count": null,
   "id": "968be671",
   "metadata": {},
   "outputs": [],
   "source": [
    "from sys import setrecursionlimit\n",
    "'''\n",
    "class Node:\n",
    "    def __init__(self, val = 0, neighbors = []):\n",
    "        self.val = val\n",
    "        self.neighbors = neighbors\n",
    "'''\n",
    "\n",
    "class Solution():\n",
    "    def cloneGraph(self, node):\n",
    "        setrecursionlimit(10**4)\n",
    "        corr = dict()\n",
    "        q = [node]\n",
    "        while q:\n",
    "            cur = q.pop()\n",
    "            corr[cur] = Node()\n",
    "            for nxt in cur.neighbors:\n",
    "                if nxt not in corr:\n",
    "                    q.append(nxt)\n",
    "                    \n",
    "        for ex, ne in corr.items():\n",
    "            ne.val = ex.val\n",
    "            ne.neighbors = [corr[x] for x in ex.neighbors]\n",
    "            \n",
    "        return corr[node]"
   ]
  }
 ],
 "metadata": {
  "kernelspec": {
   "display_name": "Python 3 (ipykernel)",
   "language": "python",
   "name": "python3"
  },
  "language_info": {
   "codemirror_mode": {
    "name": "ipython",
    "version": 3
   },
   "file_extension": ".py",
   "mimetype": "text/x-python",
   "name": "python",
   "nbconvert_exporter": "python",
   "pygments_lexer": "ipython3",
   "version": "3.9.13"
  }
 },
 "nbformat": 4,
 "nbformat_minor": 5
}
