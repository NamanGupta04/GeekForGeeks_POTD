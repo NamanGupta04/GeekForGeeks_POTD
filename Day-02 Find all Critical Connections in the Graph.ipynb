{
 "cells": [
  {
   "cell_type": "code",
   "execution_count": null,
   "id": "4df6a3b0",
   "metadata": {},
   "outputs": [],
   "source": [
    "class Solution:\n",
    "    def criticalConnections(self, v, adj):\n",
    "        # code here\n",
    "        def dfs(u, parent, disc, low, bridges):\n",
    "            nonlocal time\n",
    "            disc[u] = low[u] = time\n",
    "            time += 1\n",
    "            for v in adj[u]:\n",
    "                if disc[v] == -1:  # v is not visited\n",
    "                    dfs(v, u, disc, low, bridges)\n",
    "                    low[u] = min(low[u], low[v])\n",
    "                    if low[v] > disc[u]:\n",
    "                        bridges.append((min(u, v), max(u, v)))\n",
    "                elif v != parent:  # v is visited and not parent\n",
    "                    low[u] = min(low[u], disc[v])\n",
    "\n",
    "        disc = [-1] * v\n",
    "        low = [-1] * v\n",
    "        time = 0\n",
    "        bridges = []\n",
    "        for i in range(v):\n",
    "            if disc[i] == -1:\n",
    "                dfs(i, -1, disc, low, bridges)\n",
    "        return sorted(bridges)"
   ]
  }
 ],
 "metadata": {
  "kernelspec": {
   "display_name": "Python 3 (ipykernel)",
   "language": "python",
   "name": "python3"
  },
  "language_info": {
   "codemirror_mode": {
    "name": "ipython",
    "version": 3
   },
   "file_extension": ".py",
   "mimetype": "text/x-python",
   "name": "python",
   "nbconvert_exporter": "python",
   "pygments_lexer": "ipython3",
   "version": "3.9.13"
  }
 },
 "nbformat": 4,
 "nbformat_minor": 5
}
