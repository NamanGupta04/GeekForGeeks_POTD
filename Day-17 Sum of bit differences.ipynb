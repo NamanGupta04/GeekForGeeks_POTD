{
 "cells": [
  {
   "cell_type": "code",
   "execution_count": null,
   "id": "665fcf1b",
   "metadata": {},
   "outputs": [],
   "source": [
    "class Solution:\n",
    "    def sumBitDifferences(self,arr, n):\n",
    "        # code here\n",
    "        result = 0\n",
    "    \n",
    "    # Iterate through all bits\n",
    "        for i in range(32):\n",
    "        # Count number of elements with ith bit set\n",
    "            count = 0\n",
    "            for j in range(n):\n",
    "                if ((arr[j] & (1 << i)) != 0):\n",
    "                    count += 1\n",
    "        \n",
    "        # Add the contribution of the current bit to the result\n",
    "            result += count * (n - count) * 2\n",
    "    \n",
    "        return result"
   ]
  }
 ],
 "metadata": {
  "kernelspec": {
   "display_name": "Python 3 (ipykernel)",
   "language": "python",
   "name": "python3"
  },
  "language_info": {
   "codemirror_mode": {
    "name": "ipython",
    "version": 3
   },
   "file_extension": ".py",
   "mimetype": "text/x-python",
   "name": "python",
   "nbconvert_exporter": "python",
   "pygments_lexer": "ipython3",
   "version": "3.9.13"
  }
 },
 "nbformat": 4,
 "nbformat_minor": 5
}
