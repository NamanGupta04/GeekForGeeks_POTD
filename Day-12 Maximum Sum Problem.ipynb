{
 "cells": [
  {
   "cell_type": "code",
   "execution_count": 1,
   "id": "e959db9f",
   "metadata": {},
   "outputs": [],
   "source": [
    "class Solution:\n",
    "    def maxSum(self, n): \n",
    "        # code here \n",
    "        memo = {}\n",
    "\n",
    "        # Helper function for recursive memoized calculation\n",
    "        def helper(num):\n",
    "            # Base case: if num is less than or equal to 4, the maximum sum is num itself\n",
    "            if num <= 4:\n",
    "                return num\n",
    "\n",
    "            # Check if the result for num is already memoized\n",
    "            if num in memo:\n",
    "                return memo[num]\n",
    "\n",
    "            # Calculate the maximum sum using recursion and memoization\n",
    "            memo[num] = max(helper(num // 2) + helper(num // 3) + helper(num // 4), num)\n",
    "            return memo[num]\n",
    "\n",
    "        # Call the helper function to get the result for the given input n\n",
    "        return helper(n)\n"
   ]
  },
  {
   "cell_type": "code",
   "execution_count": null,
   "id": "f5fb941a",
   "metadata": {},
   "outputs": [],
   "source": []
  }
 ],
 "metadata": {
  "kernelspec": {
   "display_name": "Python 3 (ipykernel)",
   "language": "python",
   "name": "python3"
  },
  "language_info": {
   "codemirror_mode": {
    "name": "ipython",
    "version": 3
   },
   "file_extension": ".py",
   "mimetype": "text/x-python",
   "name": "python",
   "nbconvert_exporter": "python",
   "pygments_lexer": "ipython3",
   "version": "3.9.13"
  }
 },
 "nbformat": 4,
 "nbformat_minor": 5
}
